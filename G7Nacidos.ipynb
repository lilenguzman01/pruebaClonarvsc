{
  "cells": [
    {
      "attachments": {},
      "cell_type": "markdown",
      "metadata": {
        "id": "uj7hb3MljNnY"
      },
      "source": [
        "Análisis Nacidos Vivos Registrados 2018\n"
      ]
    },
    {
      "attachments": {},
      "cell_type": "markdown",
      "metadata": {
        "id": "s5HpIvVUjNnb"
      },
      "source": [
        "RECOLECCIÓN Y PREPARACIÓN DE DATOS\n"
      ]
    },
    {
      "cell_type": "code",
      "execution_count": 1,
      "metadata": {
        "id": "FIOYLViqjNnc"
      },
      "outputs": [],
      "source": [
        "import pandas as pd\n",
        "import matplotlib.pyplot as plt\n",
        "import seaborn as sns\n",
        "import numpy as np\n"
      ]
    },
    {
      "cell_type": "code",
      "execution_count": 2,
      "metadata": {
        "id": "wPIWN-wfjNnd"
      },
      "outputs": [],
      "source": [
        "\n",
        "# URL del archivo CSV\n",
        "url = 'https://raw.githubusercontent.com/gagabriela2787/Grupo7ISPC/main/nacidos-vivos-registrados-2018_deis.csv'\n",
        "\n",
        "# Leer el archivo CSV desde la URL\n",
        "df = pd.read_csv(url)"
      ]
    },
    {
      "attachments": {},
      "cell_type": "markdown",
      "metadata": {
        "id": "97TImRCEjNne"
      },
      "source": [
        "ANÁLISIS EXPLORATORIO\n"
      ]
    },
    {
      "cell_type": "code",
      "execution_count": 3,
      "metadata": {
        "colab": {
          "base_uri": "https://localhost:8080/"
        },
        "id": "jA9NxNiLnQGe",
        "outputId": "8bbb9ff3-6d50-4636-e118-246eef066cda"
      },
      "outputs": [
        {
          "data": {
            "text/plain": [
              "(30099, 15)"
            ]
          },
          "execution_count": 3,
          "metadata": {},
          "output_type": "execute_result"
        }
      ],
      "source": [
        "# Tamaño de la matriz de datos (filas, columnas)\n",
        "df.shape"
      ]
    },
    {
      "cell_type": "code",
      "execution_count": 4,
      "metadata": {
        "colab": {
          "base_uri": "https://localhost:8080/"
        },
        "id": "nhdNJ6aPneg2",
        "outputId": "4a10168f-b026-4d88-bb6f-50d370a1e48a"
      },
      "outputs": [
        {
          "name": "stdout",
          "output_type": "stream",
          "text": [
            "Index(['jurisdiccion_de_residencia_id', 'jurisdiccion_de_residencia_nombre',\n",
            "       'tipo_de_parto_id', 'tipo_de_parto_nombre', 'sexo', 'sexo_nombre',\n",
            "       'edad_de_la_madre_grupos_id', 'edad_de_la_madre_grupos_nombre',\n",
            "       'semanas_de_gestacion_id', 'semanas_de_gestacion_nombre',\n",
            "       'instruccion_de_la_madre_id', 'instruccion_de_la_madre_nombre',\n",
            "       'Intervalos_de_peso_al_nacer_id', 'intervalos_de_peso_al_nacer_nombre',\n",
            "       'cantidad_nacimientos'],\n",
            "      dtype='object')\n"
          ]
        }
      ],
      "source": [
        "# Mostrar todas las columnas\n",
        "print(df.columns)"
      ]
    },
    {
      "cell_type": "code",
      "execution_count": 5,
      "metadata": {
        "colab": {
          "base_uri": "https://localhost:8080/",
          "height": 364
        },
        "id": "sfwLD_k-njHt",
        "outputId": "3e64db22-66b4-482e-ccc0-b709d086233d"
      },
      "outputs": [
        {
          "data": {
            "text/html": [
              "\n",
              "  <div id=\"df-fd538d76-12da-4fe6-8406-9e64937bef40\">\n",
              "    <div class=\"colab-df-container\">\n",
              "      <div>\n",
              "<style scoped>\n",
              "    .dataframe tbody tr th:only-of-type {\n",
              "        vertical-align: middle;\n",
              "    }\n",
              "\n",
              "    .dataframe tbody tr th {\n",
              "        vertical-align: top;\n",
              "    }\n",
              "\n",
              "    .dataframe thead th {\n",
              "        text-align: right;\n",
              "    }\n",
              "</style>\n",
              "<table border=\"1\" class=\"dataframe\">\n",
              "  <thead>\n",
              "    <tr style=\"text-align: right;\">\n",
              "      <th></th>\n",
              "      <th>jurisdiccion_de_residencia_id</th>\n",
              "      <th>tipo_de_parto_id</th>\n",
              "      <th>sexo</th>\n",
              "      <th>edad_de_la_madre_grupos_id</th>\n",
              "      <th>semanas_de_gestacion_id</th>\n",
              "      <th>instruccion_de_la_madre_id</th>\n",
              "      <th>Intervalos_de_peso_al_nacer_id</th>\n",
              "      <th>cantidad_nacimientos</th>\n",
              "    </tr>\n",
              "  </thead>\n",
              "  <tbody>\n",
              "    <tr>\n",
              "      <th>count</th>\n",
              "      <td>30099.000000</td>\n",
              "      <td>30099.000000</td>\n",
              "      <td>30099.000000</td>\n",
              "      <td>30099.000000</td>\n",
              "      <td>30099.000000</td>\n",
              "      <td>30099.000000</td>\n",
              "      <td>30099.000000</td>\n",
              "      <td>30099.000000</td>\n",
              "    </tr>\n",
              "    <tr>\n",
              "      <th>mean</th>\n",
              "      <td>42.405528</td>\n",
              "      <td>1.226120</td>\n",
              "      <td>1.663610</td>\n",
              "      <td>4.524968</td>\n",
              "      <td>5.487093</td>\n",
              "      <td>4.772351</td>\n",
              "      <td>5.763015</td>\n",
              "      <td>22.771321</td>\n",
              "    </tr>\n",
              "    <tr>\n",
              "      <th>std</th>\n",
              "      <td>30.808996</td>\n",
              "      <td>0.739671</td>\n",
              "      <td>1.204007</td>\n",
              "      <td>1.831169</td>\n",
              "      <td>1.155895</td>\n",
              "      <td>1.844638</td>\n",
              "      <td>1.850774</td>\n",
              "      <td>122.235335</td>\n",
              "    </tr>\n",
              "    <tr>\n",
              "      <th>min</th>\n",
              "      <td>2.000000</td>\n",
              "      <td>1.000000</td>\n",
              "      <td>1.000000</td>\n",
              "      <td>1.000000</td>\n",
              "      <td>1.000000</td>\n",
              "      <td>1.000000</td>\n",
              "      <td>1.000000</td>\n",
              "      <td>1.000000</td>\n",
              "    </tr>\n",
              "    <tr>\n",
              "      <th>25%</th>\n",
              "      <td>14.000000</td>\n",
              "      <td>1.000000</td>\n",
              "      <td>1.000000</td>\n",
              "      <td>3.000000</td>\n",
              "      <td>5.000000</td>\n",
              "      <td>3.000000</td>\n",
              "      <td>5.000000</td>\n",
              "      <td>1.000000</td>\n",
              "    </tr>\n",
              "    <tr>\n",
              "      <th>50%</th>\n",
              "      <td>38.000000</td>\n",
              "      <td>1.000000</td>\n",
              "      <td>2.000000</td>\n",
              "      <td>4.000000</td>\n",
              "      <td>6.000000</td>\n",
              "      <td>5.000000</td>\n",
              "      <td>6.000000</td>\n",
              "      <td>2.000000</td>\n",
              "    </tr>\n",
              "    <tr>\n",
              "      <th>75%</th>\n",
              "      <td>70.000000</td>\n",
              "      <td>1.000000</td>\n",
              "      <td>2.000000</td>\n",
              "      <td>6.000000</td>\n",
              "      <td>6.000000</td>\n",
              "      <td>6.000000</td>\n",
              "      <td>7.000000</td>\n",
              "      <td>7.000000</td>\n",
              "    </tr>\n",
              "    <tr>\n",
              "      <th>max</th>\n",
              "      <td>99.000000</td>\n",
              "      <td>9.000000</td>\n",
              "      <td>9.000000</td>\n",
              "      <td>9.000000</td>\n",
              "      <td>8.000000</td>\n",
              "      <td>8.000000</td>\n",
              "      <td>9.000000</td>\n",
              "      <td>4512.000000</td>\n",
              "    </tr>\n",
              "  </tbody>\n",
              "</table>\n",
              "</div>\n",
              "      <button class=\"colab-df-convert\" onclick=\"convertToInteractive('df-fd538d76-12da-4fe6-8406-9e64937bef40')\"\n",
              "              title=\"Convert this dataframe to an interactive table.\"\n",
              "              style=\"display:none;\">\n",
              "        \n",
              "  <svg xmlns=\"http://www.w3.org/2000/svg\" height=\"24px\"viewBox=\"0 0 24 24\"\n",
              "       width=\"24px\">\n",
              "    <path d=\"M0 0h24v24H0V0z\" fill=\"none\"/>\n",
              "    <path d=\"M18.56 5.44l.94 2.06.94-2.06 2.06-.94-2.06-.94-.94-2.06-.94 2.06-2.06.94zm-11 1L8.5 8.5l.94-2.06 2.06-.94-2.06-.94L8.5 2.5l-.94 2.06-2.06.94zm10 10l.94 2.06.94-2.06 2.06-.94-2.06-.94-.94-2.06-.94 2.06-2.06.94z\"/><path d=\"M17.41 7.96l-1.37-1.37c-.4-.4-.92-.59-1.43-.59-.52 0-1.04.2-1.43.59L10.3 9.45l-7.72 7.72c-.78.78-.78 2.05 0 2.83L4 21.41c.39.39.9.59 1.41.59.51 0 1.02-.2 1.41-.59l7.78-7.78 2.81-2.81c.8-.78.8-2.07 0-2.86zM5.41 20L4 18.59l7.72-7.72 1.47 1.35L5.41 20z\"/>\n",
              "  </svg>\n",
              "      </button>\n",
              "      \n",
              "  <style>\n",
              "    .colab-df-container {\n",
              "      display:flex;\n",
              "      flex-wrap:wrap;\n",
              "      gap: 12px;\n",
              "    }\n",
              "\n",
              "    .colab-df-convert {\n",
              "      background-color: #E8F0FE;\n",
              "      border: none;\n",
              "      border-radius: 50%;\n",
              "      cursor: pointer;\n",
              "      display: none;\n",
              "      fill: #1967D2;\n",
              "      height: 32px;\n",
              "      padding: 0 0 0 0;\n",
              "      width: 32px;\n",
              "    }\n",
              "\n",
              "    .colab-df-convert:hover {\n",
              "      background-color: #E2EBFA;\n",
              "      box-shadow: 0px 1px 2px rgba(60, 64, 67, 0.3), 0px 1px 3px 1px rgba(60, 64, 67, 0.15);\n",
              "      fill: #174EA6;\n",
              "    }\n",
              "\n",
              "    [theme=dark] .colab-df-convert {\n",
              "      background-color: #3B4455;\n",
              "      fill: #D2E3FC;\n",
              "    }\n",
              "\n",
              "    [theme=dark] .colab-df-convert:hover {\n",
              "      background-color: #434B5C;\n",
              "      box-shadow: 0px 1px 3px 1px rgba(0, 0, 0, 0.15);\n",
              "      filter: drop-shadow(0px 1px 2px rgba(0, 0, 0, 0.3));\n",
              "      fill: #FFFFFF;\n",
              "    }\n",
              "  </style>\n",
              "\n",
              "      <script>\n",
              "        const buttonEl =\n",
              "          document.querySelector('#df-fd538d76-12da-4fe6-8406-9e64937bef40 button.colab-df-convert');\n",
              "        buttonEl.style.display =\n",
              "          google.colab.kernel.accessAllowed ? 'block' : 'none';\n",
              "\n",
              "        async function convertToInteractive(key) {\n",
              "          const element = document.querySelector('#df-fd538d76-12da-4fe6-8406-9e64937bef40');\n",
              "          const dataTable =\n",
              "            await google.colab.kernel.invokeFunction('convertToInteractive',\n",
              "                                                     [key], {});\n",
              "          if (!dataTable) return;\n",
              "\n",
              "          const docLinkHtml = 'Like what you see? Visit the ' +\n",
              "            '<a target=\"_blank\" href=https://colab.research.google.com/notebooks/data_table.ipynb>data table notebook</a>'\n",
              "            + ' to learn more about interactive tables.';\n",
              "          element.innerHTML = '';\n",
              "          dataTable['output_type'] = 'display_data';\n",
              "          await google.colab.output.renderOutput(dataTable, element);\n",
              "          const docLink = document.createElement('div');\n",
              "          docLink.innerHTML = docLinkHtml;\n",
              "          element.appendChild(docLink);\n",
              "        }\n",
              "      </script>\n",
              "    </div>\n",
              "  </div>\n",
              "  "
            ],
            "text/plain": [
              "       jurisdiccion_de_residencia_id  tipo_de_parto_id          sexo  \\\n",
              "count                   30099.000000      30099.000000  30099.000000   \n",
              "mean                       42.405528          1.226120      1.663610   \n",
              "std                        30.808996          0.739671      1.204007   \n",
              "min                         2.000000          1.000000      1.000000   \n",
              "25%                        14.000000          1.000000      1.000000   \n",
              "50%                        38.000000          1.000000      2.000000   \n",
              "75%                        70.000000          1.000000      2.000000   \n",
              "max                        99.000000          9.000000      9.000000   \n",
              "\n",
              "       edad_de_la_madre_grupos_id  semanas_de_gestacion_id  \\\n",
              "count                30099.000000             30099.000000   \n",
              "mean                     4.524968                 5.487093   \n",
              "std                      1.831169                 1.155895   \n",
              "min                      1.000000                 1.000000   \n",
              "25%                      3.000000                 5.000000   \n",
              "50%                      4.000000                 6.000000   \n",
              "75%                      6.000000                 6.000000   \n",
              "max                      9.000000                 8.000000   \n",
              "\n",
              "       instruccion_de_la_madre_id  Intervalos_de_peso_al_nacer_id  \\\n",
              "count                30099.000000                    30099.000000   \n",
              "mean                     4.772351                        5.763015   \n",
              "std                      1.844638                        1.850774   \n",
              "min                      1.000000                        1.000000   \n",
              "25%                      3.000000                        5.000000   \n",
              "50%                      5.000000                        6.000000   \n",
              "75%                      6.000000                        7.000000   \n",
              "max                      8.000000                        9.000000   \n",
              "\n",
              "       cantidad_nacimientos  \n",
              "count          30099.000000  \n",
              "mean              22.771321  \n",
              "std              122.235335  \n",
              "min                1.000000  \n",
              "25%                1.000000  \n",
              "50%                2.000000  \n",
              "75%                7.000000  \n",
              "max             4512.000000  "
            ]
          },
          "execution_count": 5,
          "metadata": {},
          "output_type": "execute_result"
        }
      ],
      "source": [
        "#Primera descripción general de los datos\n",
        "df.describe()"
      ]
    },
    {
      "attachments": {},
      "cell_type": "markdown",
      "metadata": {
        "id": "PfQM7UAVjNne"
      },
      "source": [
        "PROCESAMIENTO Y ANÁLISIS DE DATOS\n"
      ]
    },
    {
      "attachments": {},
      "cell_type": "markdown",
      "metadata": {
        "id": "-MzvHtETjNnf"
      },
      "source": [
        "CONSULTAS Y GRÁFICOS\n"
      ]
    },
    {
      "attachments": {},
      "cell_type": "markdown",
      "metadata": {
        "id": "tehe8dv0jNnf"
      },
      "source": [
        "RESULTADOS:"
      ]
    },
    {
      "attachments": {},
      "cell_type": "markdown",
      "metadata": {
        "id": "4sWLxJFBjNnf"
      },
      "source": [
        "CONCLUSIONES:\n"
      ]
    }
  ],
  "metadata": {
    "colab": {
      "provenance": []
    },
    "kernelspec": {
      "display_name": "Python 3",
      "name": "python3"
    },
    "language_info": {
      "codemirror_mode": {
        "name": "ipython",
        "version": 3
      },
      "file_extension": ".py",
      "mimetype": "text/x-python",
      "name": "python",
      "nbconvert_exporter": "python",
      "pygments_lexer": "ipython3",
      "version": "3.10.11"
    }
  },
  "nbformat": 4,
  "nbformat_minor": 0
}
